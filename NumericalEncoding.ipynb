{
 "cells": [
  {
   "cell_type": "code",
   "execution_count": 7,
   "metadata": {},
   "outputs": [],
   "source": [
    "import pandas as pd\n",
    "import numpy as np"
   ]
  },
  {
   "cell_type": "markdown",
   "metadata": {},
   "source": [
    "- we dont need to do this everytime, some times we have to categorised the numerical values in different bins"
   ]
  },
  {
   "cell_type": "markdown",
   "metad